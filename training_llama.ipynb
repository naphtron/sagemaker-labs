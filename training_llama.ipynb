{
 "cells": [
  {
   "cell_type": "code",
   "execution_count": 10,
   "id": "1e7ae3b3-120e-4881-a39d-9519fb2fdba9",
   "metadata": {
    "tags": []
   },
   "outputs": [
    {
     "data": {
      "text/plain": [
       "False"
      ]
     },
     "execution_count": 10,
     "metadata": {},
     "output_type": "execute_result"
    }
   ],
   "source": [
    "import torch\n",
    "torch.cuda.is_available()"
   ]
  },
  {
   "cell_type": "markdown",
   "id": "bd7edad7-fd1d-4812-8fb4-dc19aa5ec3d5",
   "metadata": {},
   "source": [
    "### Install Langchain and Langchain community"
   ]
  },
  {
   "cell_type": "code",
   "execution_count": 11,
   "id": "96bd5fe5-acfd-4e5d-9531-d9f3b4c20f3e",
   "metadata": {
    "tags": []
   },
   "outputs": [],
   "source": [
    "# !pip install langchain langchain-community pypdf\n"
   ]
  },
  {
   "cell_type": "code",
   "execution_count": 12,
   "id": "8e63c4b5-bacc-46d4-b2be-e71c5fb2187d",
   "metadata": {
    "tags": []
   },
   "outputs": [],
   "source": [
    "# pip install langchain-openai\n"
   ]
  },
  {
   "cell_type": "code",
   "execution_count": 13,
   "id": "938860ac-5b3f-4999-9d7a-1f8b34225199",
   "metadata": {
    "tags": []
   },
   "outputs": [],
   "source": [
    "# pip install llama-index llama-parse\n"
   ]
  },
  {
   "cell_type": "markdown",
   "id": "9190f5de-afc2-40b3-b49f-6d7b72389f6f",
   "metadata": {},
   "source": [
    "#### Install Cohere, which we'll use to generate embeddings."
   ]
  },
  {
   "cell_type": "code",
   "execution_count": 14,
   "id": "f9d2b164-2fc1-4000-9785-d9e2ec2df2b2",
   "metadata": {
    "tags": []
   },
   "outputs": [],
   "source": [
    "# pip install cohere"
   ]
  },
  {
   "cell_type": "code",
   "execution_count": 15,
   "id": "55e60645-59ab-4c15-aa3f-9d29b1130bfd",
   "metadata": {
    "tags": []
   },
   "outputs": [],
   "source": [
    "import os\n",
    "import shutil\n",
    "import getpass"
   ]
  },
  {
   "cell_type": "markdown",
   "id": "b819828f-3ebb-4887-8035-03c7e228b515",
   "metadata": {},
   "source": [
    "#### Create account on Cohere's platform to get free trial api key"
   ]
  },
  {
   "cell_type": "code",
   "execution_count": 16,
   "id": "208826e0-09e9-4a11-8681-47b6303f9767",
   "metadata": {
    "tags": []
   },
   "outputs": [
    {
     "name": "stdin",
     "output_type": "stream",
     "text": [
      "Cohere API Key: ········\n"
     ]
    }
   ],
   "source": [
    "os.environ['COHERE_API_KEY'] = getpass.getpass('Cohere API Key:')"
   ]
  },
  {
   "cell_type": "code",
   "execution_count": 17,
   "id": "c951a597-deec-4461-b00d-728abeeb94e4",
   "metadata": {
    "tags": []
   },
   "outputs": [],
   "source": [
    "import cohere\n",
    "co = cohere.Client(os.environ['COHERE_API_KEY'])"
   ]
  },
  {
   "cell_type": "markdown",
   "id": "2299c6c9-e54f-4e8c-8c0d-83e06335723b",
   "metadata": {},
   "source": [
    "#### Getting embeddings from dummy text"
   ]
  },
  {
   "cell_type": "code",
   "execution_count": 18,
   "id": "36e2d0bb-751b-496a-96b5-eb3bc6d4efd4",
   "metadata": {
    "tags": []
   },
   "outputs": [],
   "source": [
    "response = co.embed(\n",
    "  texts=['Pavan is a developer evangelist'],\n",
    "  model='embed-english-v3.0',\n",
    "  input_type='classification'\n",
    ")\n",
    "# print(response.embeddings)"
   ]
  },
  {
   "cell_type": "code",
   "execution_count": 19,
   "id": "e9cb99a5-f617-426a-a6e6-09921598a7c4",
   "metadata": {
    "tags": []
   },
   "outputs": [],
   "source": [
    "DATA_PATH = \"data\""
   ]
  },
  {
   "cell_type": "code",
   "execution_count": 20,
   "id": "15879155-352b-407c-b15b-fda532677906",
   "metadata": {
    "tags": []
   },
   "outputs": [],
   "source": [
    " # pip install unstructured[md]  #to load docs"
   ]
  },
  {
   "cell_type": "code",
   "execution_count": 21,
   "id": "d9787e1e-4be1-4a70-bbf7-e32b04efe484",
   "metadata": {
    "tags": []
   },
   "outputs": [],
   "source": [
    "from langchain_community.document_loaders import DirectoryLoader\n",
    "\n",
    "def load_documents():\n",
    "    loader = DirectoryLoader(DATA_PATH, glob=\"*.md\")\n",
    "    documents = loader.load()\n",
    "    return documents"
   ]
  },
  {
   "cell_type": "code",
   "execution_count": 22,
   "id": "c31d40cc-0ca4-45a1-9f9a-c4b4e7417687",
   "metadata": {
    "tags": []
   },
   "outputs": [],
   "source": [
    "# print(load_documents()) #works"
   ]
  },
  {
   "cell_type": "code",
   "execution_count": 23,
   "id": "98a90fe5-bb68-4e3e-a756-0102e7a2aaf4",
   "metadata": {
    "tags": []
   },
   "outputs": [],
   "source": [
    "from langchain.text_splitter import RecursiveCharacterTextSplitter\n",
    "from langchain.schema import Document"
   ]
  },
  {
   "cell_type": "code",
   "execution_count": 24,
   "id": "b28cf8bf-a937-4afa-9bf8-30d6ef88a65d",
   "metadata": {
    "tags": []
   },
   "outputs": [],
   "source": [
    "def split_text(documents: list[Document]):\n",
    "    text_splitter = RecursiveCharacterTextSplitter(\n",
    "        chunk_size=300,\n",
    "        chunk_overlap=100,\n",
    "        length_function=len,\n",
    "        add_start_index=True,\n",
    "    )\n",
    "    chunks = text_splitter.split_documents(documents)\n",
    "    print(f\"Split {len(documents)} documents into {len(chunks)} chunks.\")\n",
    "\n",
    "    document = chunks[10]\n",
    "    print(document.page_content)\n",
    "    print(document.metadata)\n",
    "\n",
    "    return chunks"
   ]
  },
  {
   "cell_type": "code",
   "execution_count": 25,
   "id": "52c22b6b-6915-4f53-b38c-c9e64fe72111",
   "metadata": {
    "tags": []
   },
   "outputs": [],
   "source": [
    " # split_text(load_documents())"
   ]
  },
  {
   "cell_type": "code",
   "execution_count": 56,
   "id": "2c0fb07d-ebd4-44b3-9d64-4dc8744f565c",
   "metadata": {
    "tags": []
   },
   "outputs": [],
   "source": [
    "# Define a custom Cohere embeddings class\n",
    "class CohereEmbeddings:\n",
    "    def __init__(self, model='embed-english-v2.0'):\n",
    "        self.model = model\n",
    "\n",
    "    def embed_documents(self, texts):\n",
    "        response = co.embed(texts=texts, model=self.model)\n",
    "        return response.embeddings\n",
    "    def embed_query(self, query):\n",
    "        return self.embed_documents([query])[0]"
   ]
  },
  {
   "cell_type": "markdown",
   "id": "1928c772-3639-4b81-be9e-ed21c858d3e3",
   "metadata": {},
   "source": [
    "#### Install chromadb (our vector database of choice)"
   ]
  },
  {
   "cell_type": "code",
   "execution_count": 27,
   "id": "d1341d9a-759d-442e-9322-0067129c4ff0",
   "metadata": {
    "tags": []
   },
   "outputs": [],
   "source": [
    "# pip install chromadb"
   ]
  },
  {
   "cell_type": "code",
   "execution_count": 40,
   "id": "fd125475-f3ca-4890-861d-98273eee1a54",
   "metadata": {
    "tags": []
   },
   "outputs": [],
   "source": [
    "# pip install --upgrade chromadb==0.4.14"
   ]
  },
  {
   "cell_type": "code",
   "execution_count": 29,
   "id": "59c98c1c-d0b1-4736-bbdc-2c13695e7af6",
   "metadata": {
    "tags": []
   },
   "outputs": [],
   "source": [
    "from langchain.vectorstores.chroma import Chroma"
   ]
  },
  {
   "cell_type": "code",
   "execution_count": 30,
   "id": "b70db516-0777-438c-82be-50fb9943a27a",
   "metadata": {
    "tags": []
   },
   "outputs": [],
   "source": [
    "CHROMA_PATH = 'chroma_r'"
   ]
  },
  {
   "cell_type": "code",
   "execution_count": 53,
   "id": "8db259b9-ebe7-4d81-9af6-b67d26f583ad",
   "metadata": {
    "tags": []
   },
   "outputs": [],
   "source": [
    "def save_to_chroma(chunks: list[Document]):\n",
    "    # Clear out the database first.\n",
    "    if os.path.exists(CHROMA_PATH):\n",
    "        shutil.rmtree(CHROMA_PATH)\n",
    "        # ensure_dir(CHROMA_PATH)\n",
    "\n",
    "    # Create a new DB from the documents.\n",
    "    db = Chroma.from_documents(\n",
    "        chunks, CohereEmbeddings(), persist_directory=CHROMA_PATH\n",
    "    )\n",
    "    db.persist()\n",
    "    print(f\"Saved {len(chunks)} chunks to {CHROMA_PATH}.\")"
   ]
  },
  {
   "cell_type": "code",
   "execution_count": 32,
   "id": "4322208a-3305-4649-b34e-f4783b08669c",
   "metadata": {
    "tags": []
   },
   "outputs": [],
   "source": [
    "def generate_data_store():\n",
    "    documents = load_documents()\n",
    "    chunks = split_text(documents)\n",
    "    save_to_chroma(chunks)"
   ]
  },
  {
   "cell_type": "code",
   "execution_count": 33,
   "id": "1a74c43f-a936-4bb2-961f-2d87c59dcfc2",
   "metadata": {
    "tags": []
   },
   "outputs": [],
   "source": [
    "# def ensure_dir(directory):\n",
    "#     if not os.path.exists(directory):\n",
    "#         os.makedirs(directory)\n",
    "#     os.chmod(directory, 0o777)"
   ]
  },
  {
   "cell_type": "code",
   "execution_count": 34,
   "id": "3c4921cd-3b0e-418c-b6a0-7076e739fbbb",
   "metadata": {
    "tags": []
   },
   "outputs": [],
   "source": [
    "def main():\n",
    "    generate_data_store()"
   ]
  },
  {
   "cell_type": "code",
   "execution_count": 35,
   "id": "300bd8bb-5823-4dcc-8843-d8324c79a4ca",
   "metadata": {
    "tags": []
   },
   "outputs": [
    {
     "name": "stdout",
     "output_type": "stream",
     "text": [
      "Split 1 documents into 2219 chunks.\n",
      "Part V – Driving and other offences relating to the Use of Vehicles on Roads\n",
      "{'source': 'data/The Traffic Act.md', 'start_index': 1876}\n",
      "Saved 2219 chunks to chroma_r.\n"
     ]
    },
    {
     "name": "stderr",
     "output_type": "stream",
     "text": [
      "/home/studio-lab-user/.conda/envs/d2l/lib/python3.9/site-packages/langchain_core/_api/deprecation.py:119: LangChainDeprecationWarning: Since Chroma 0.4.x the manual persistence method is no longer supported as docs are automatically persisted.\n",
      "  warn_deprecated(\n"
     ]
    }
   ],
   "source": [
    "main()"
   ]
  },
  {
   "cell_type": "code",
   "execution_count": 36,
   "id": "63c89f86-cf12-447e-8c4a-7163560f21b4",
   "metadata": {
    "tags": []
   },
   "outputs": [
    {
     "data": {
      "text/plain": [
       "['Getting Started.ipynb',\n",
       " 'images',\n",
       " '.ipynb_checkpoints',\n",
       " 'd2l-pytorch-sagemaker-studio-lab',\n",
       " 'training_llama.ipynb',\n",
       " 'data',\n",
       " 'chroma_r']"
      ]
     },
     "execution_count": 36,
     "metadata": {},
     "output_type": "execute_result"
    }
   ],
   "source": [
    "os.listdir()"
   ]
  },
  {
   "cell_type": "code",
   "execution_count": 57,
   "id": "8b1eb5f7-63f4-479f-ad3d-0885abe04916",
   "metadata": {
    "tags": []
   },
   "outputs": [],
   "source": [
    "embedding_function = CohereEmbeddings()\n",
    "db = Chroma(persist_directory=CHROMA_PATH, embedding_function=embedding_function)"
   ]
  },
  {
   "cell_type": "code",
   "execution_count": 66,
   "id": "fa399089-34ea-43e4-bc82-cc71db4e1e2d",
   "metadata": {
    "tags": []
   },
   "outputs": [],
   "source": [
    "query_text = \"Is jaywalking illegal\""
   ]
  },
  {
   "cell_type": "code",
   "execution_count": 67,
   "id": "c8cf9bce-e8c7-424d-b2d9-e50bdf2bdce5",
   "metadata": {
    "tags": []
   },
   "outputs": [
    {
     "name": "stdout",
     "output_type": "stream",
     "text": [
      "[(Document(page_content='Any pedestrian who crosses the bridge except by that part of the bridge reserved for the use of pedestrians and erected on the eastern side of the bridge shall be guilty of an offence.', metadata={'source': 'data/The Traffic Act.md', 'start_index': 398964}), -5611.823732218163), (Document(page_content='No person shall, in order to avoid a buildup of traffic on a road, drive a motor vehicle on, or prough, a pavement or a pedestrian walkway.\\nA person who contravenes subsection (1) commits an offence and shall be liable-', metadata={'source': 'data/The Traffic Act.md', 'start_index': 61294}), -5620.774433485488), (Document(page_content='Any person who drives a vehicle whilst on the bridge so as to overtake any other moving vehicle except a hamali cart or a hand cart shall be guilty of an offence.', metadata={'source': 'data/The Traffic Act.md', 'start_index': 399150}), -5765.104664054583)]\n"
     ]
    },
    {
     "name": "stderr",
     "output_type": "stream",
     "text": [
      "/home/studio-lab-user/.conda/envs/d2l/lib/python3.9/site-packages/langchain_core/vectorstores.py:330: UserWarning: Relevance scores must be between 0 and 1, got [(Document(page_content='Any pedestrian who crosses the bridge except by that part of the bridge reserved for the use of pedestrians and erected on the eastern side of the bridge shall be guilty of an offence.', metadata={'source': 'data/The Traffic Act.md', 'start_index': 398964}), -5611.823732218163), (Document(page_content='No person shall, in order to avoid a buildup of traffic on a road, drive a motor vehicle on, or prough, a pavement or a pedestrian walkway.\\nA person who contravenes subsection (1) commits an offence and shall be liable-', metadata={'source': 'data/The Traffic Act.md', 'start_index': 61294}), -5620.774433485488), (Document(page_content='Any person who drives a vehicle whilst on the bridge so as to overtake any other moving vehicle except a hamali cart or a hand cart shall be guilty of an offence.', metadata={'source': 'data/The Traffic Act.md', 'start_index': 399150}), -5765.104664054583)]\n",
      "  warnings.warn(\n"
     ]
    }
   ],
   "source": [
    "result = db.similarity_search_with_relevance_scores(query_text, k=3)\n",
    "print(result)"
   ]
  },
  {
   "cell_type": "code",
   "execution_count": 37,
   "id": "5737f3a0-7366-42cd-809c-12d5de93aa5f",
   "metadata": {
    "tags": []
   },
   "outputs": [],
   "source": [
    "# from langchain_community.document_loaders import PyPDFLoader\n",
    "\n",
    "# loader = PyPDFLoader(\"TrafficAct_Cap.403.pdf\")\n",
    "# pages = loader.load_and_split()\n",
    "# print(type(pages))"
   ]
  },
  {
   "cell_type": "code",
   "execution_count": 38,
   "id": "83b3e5a2-f831-42b8-b57e-884e1c63a4dd",
   "metadata": {
    "tags": []
   },
   "outputs": [],
   "source": [
    "# os.environ['OPENAI_API_KEY'] = getpass.getpass('OpenAI API Key:')"
   ]
  },
  {
   "cell_type": "code",
   "execution_count": 39,
   "id": "60d730d1-2ea4-4022-bf73-2c8690e781ba",
   "metadata": {
    "tags": []
   },
   "outputs": [],
   "source": [
    "# from langchain_community.vectorstores import FAISS\n",
    "# from langchain_openai import OpenAIEmbeddings\n",
    "\n",
    "# faiss_index = FAISS.from_documents(pages, OpenAIEmbeddings())\n",
    "# docs = faiss_index.similarity_search(\"How will the community be engaged?\", k=2)\n",
    "# for doc in docs:\n",
    "#     print(str(doc.metadata[\"page\"]) + \":\", doc.page_content[:300])"
   ]
  },
  {
   "cell_type": "code",
   "execution_count": null,
   "id": "aca385a4-5292-4e71-af10-c72195f3a50b",
   "metadata": {},
   "outputs": [],
   "source": []
  }
 ],
 "metadata": {
  "kernelspec": {
   "display_name": "d2l:Python",
   "language": "python",
   "name": "conda-env-d2l-py"
  },
  "language_info": {
   "codemirror_mode": {
    "name": "ipython",
    "version": 3
   },
   "file_extension": ".py",
   "mimetype": "text/x-python",
   "name": "python",
   "nbconvert_exporter": "python",
   "pygments_lexer": "ipython3",
   "version": "3.9.19"
  }
 },
 "nbformat": 4,
 "nbformat_minor": 5
}
